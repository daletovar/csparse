{
 "cells": [
  {
   "cell_type": "code",
   "execution_count": 1,
   "metadata": {},
   "outputs": [],
   "source": [
    "from GCRS2 import CSR,CSC\n",
    "import sparse\n",
    "import numpy as np"
   ]
  },
  {
   "cell_type": "markdown",
   "metadata": {},
   "source": [
    "The csr/csc arrays shown here are loosely based on the GCRS/GCCS formats presented in [Shaikh et al. 2015](https://ieeexplore.ieee.org/document/7237032). However, I've used a different linearization function where the underlying sparse matrix is C-contiguous and in line with numpy's reshape method. As you'll see, csr/csc offers much better compression than coo. In principle it should be possible to use these arrays in any place that expects the numpy ndarray API and also anything that works with scipy.sparse matrices. Dask, scikit-learn, and xarray are all good candidates for this.  Currently, csr/csc is much faster than coo for indexing 2d arrays. For arrays with more dimensions, the runtime is much longer because the code to transform nd-coords to 2d-coords is a little sloppy and runs in native python. When this is all fixed I suspect that csr/csc will be faster than coo. The csc indexing still has some bugs that I'm working out. This codebase is very young and most everything is likely to change. I'm hoping that when it is ready, this code might be merged with pydata/sparse."
   ]
  },
  {
   "cell_type": "markdown",
   "metadata": {},
   "source": [
    "# compression"
   ]
  },
  {
   "cell_type": "code",
   "execution_count": 2,
   "metadata": {},
   "outputs": [
    {
     "name": "stdout",
     "output_type": "stream",
     "text": [
      "no. bytes dense:  80000  storage ratio:  1.0\n",
      "no. bytes coo:  48000  storage ratio:  0.6\n",
      "no. bytes csr:  32404  storage ratio:  0.40505\n",
      "no. bytes csc:  32404  storage ratio:  0.40505\n"
     ]
    }
   ],
   "source": [
    "#create random sparse array\n",
    "coo = sparse.random((100,100),density=.2)\n",
    "dense = coo.todense()\n",
    "csr = CSR(coo)\n",
    "csc = CSC(coo)\n",
    "print('no. bytes dense: ',dense.nbytes,' storage ratio: ', dense.nbytes/dense.nbytes)\n",
    "print('no. bytes coo: ',coo.nbytes, ' storage ratio: ', coo.nbytes/dense.nbytes)\n",
    "print('no. bytes csr: ',csr.nbytes,' storage ratio: ', csr.nbytes/dense.nbytes)\n",
    "print('no. bytes csc: ',csc.nbytes,' storage ratio: ', csc.nbytes/dense.nbytes)"
   ]
  },
  {
   "cell_type": "code",
   "execution_count": 3,
   "metadata": {},
   "outputs": [
    {
     "name": "stdout",
     "output_type": "stream",
     "text": [
      "no. bytes dense:  8000000  storage ratio:  1.0\n",
      "no. bytes coo:  6400000  storage ratio:  0.8\n",
      "no. bytes csr:  3240004  storage ratio:  0.4050005\n",
      "no. bytes csc:  3200404  storage ratio:  0.4000505\n"
     ]
    }
   ],
   "source": [
    "#create random sparse array\n",
    "coo = sparse.random((100,100,100),density=.2)\n",
    "dense = coo.todense()\n",
    "csr = CSR(coo)\n",
    "csc = CSC(coo)\n",
    "print('no. bytes dense: ',dense.nbytes,' storage ratio: ', dense.nbytes/dense.nbytes)\n",
    "print('no. bytes coo: ',coo.nbytes, ' storage ratio: ', coo.nbytes/dense.nbytes)\n",
    "print('no. bytes csr: ',csr.nbytes,' storage ratio: ', csr.nbytes/dense.nbytes)\n",
    "print('no. bytes csc: ',csc.nbytes,' storage ratio: ', csc.nbytes/dense.nbytes)"
   ]
  },
  {
   "cell_type": "code",
   "execution_count": 4,
   "metadata": {},
   "outputs": [
    {
     "name": "stdout",
     "output_type": "stream",
     "text": [
      "no. bytes dense:  50000000  storage ratio:  1.0\n",
      "no. bytes coo:  50000000  storage ratio:  1.0\n",
      "no. bytes csr:  20010004  storage ratio:  0.40020008\n",
      "no. bytes csc:  20010004  storage ratio:  0.40020008\n"
     ]
    }
   ],
   "source": [
    "#create random sparse array\n",
    "coo = sparse.random((50,50,50,50),density=.2)\n",
    "dense = coo.todense()\n",
    "csr = CSR(coo)\n",
    "csc = CSC(coo)\n",
    "print('no. bytes dense: ',dense.nbytes,' storage ratio: ', dense.nbytes/dense.nbytes)\n",
    "print('no. bytes coo: ',coo.nbytes, ' storage ratio: ', coo.nbytes/dense.nbytes)\n",
    "print('no. bytes csr: ',csr.nbytes,' storage ratio: ', csr.nbytes/dense.nbytes)\n",
    "print('no. bytes csc: ',csc.nbytes,' storage ratio: ', csc.nbytes/dense.nbytes)"
   ]
  },
  {
   "cell_type": "markdown",
   "metadata": {},
   "source": [
    "As we can see, unlike the coo format the compression ratio for csr/csc does not vary much with additional dimensions. Additionally, in most cases csr/csc will compress much better than coo."
   ]
  },
  {
   "cell_type": "markdown",
   "metadata": {},
   "source": []
  }
 ],
 "metadata": {
  "kernelspec": {
   "display_name": "Python 3",
   "language": "python",
   "name": "python3"
  },
  "language_info": {
   "codemirror_mode": {
    "name": "ipython",
    "version": 3
   },
   "file_extension": ".py",
   "mimetype": "text/x-python",
   "name": "python",
   "nbconvert_exporter": "python",
   "pygments_lexer": "ipython3",
   "version": "3.6.4"
  }
 },
 "nbformat": 4,
 "nbformat_minor": 2
}
