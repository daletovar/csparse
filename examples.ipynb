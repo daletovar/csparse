{
 "cells": [
  {
   "cell_type": "code",
   "execution_count": 1,
   "metadata": {},
   "outputs": [],
   "source": [
    "import numpy as np\n",
    "import sparse\n",
    "import scipy.sparse as ss\n",
    "from GCRS2 import CSR,CSC"
   ]
  },
  {
   "cell_type": "markdown",
   "metadata": {},
   "source": [
    "The csr/csc arrays shown here are loosely based on the GCRS/GCCS formats presented in [Shaikh et al. 2015](https://ieeexplore.ieee.org/document/7237032). However, I've used a different linearization function where the first half of the axes represent the rows of the underlying sparse matrix and the remaining axes represent the columns. This is in line with numpy's reshape method. In general the compression ratio does not change much as additional dimensions are added to csr/csc and consequently offers much better compression than coo. In principle it should be possible to use these arrays in any place that expects the numpy ndarray API and also anything that works with scipy.sparse matrices. Dask, scikit-learn, and xarray are all good candidates for this.  Currently, csr/csc is much faster than coo for indexing 2d arrays, as should be the case. For arrays with more dimensions, the runtime is a bit longer because there are the additional steps of transforming nd-coords to 2d-coords and sometimes a last step of transforming coordinates afterwards. With a few algorithmic improvements and possibly compiling these other steps with numba I suspect that csr/csc will be faster than coo. The csc indexing still has some bugs that I'm working out but csr should mostly work. 1d arrays don't make a ton of sense for csr/csc and it might be best to return a 1d coo array when returning anything 1d. I'm not sure about that though. This codebase is very young and most everything is likely to change. I'm hoping that when it is ready, this code might be merged with pydata/sparse."
   ]
  },
  {
   "cell_type": "code",
   "execution_count": 2,
   "metadata": {},
   "outputs": [],
   "source": [
    "from GCRS2.convert2 import uncompress_dimension\n",
    "def assert_eq(csr,coo):\n",
    "    coords = np.vstack((uncompress_dimension(csr.indptr,csr.indices),csr.indices))\n",
    "    assert np.array_equal(coords, coo.reshape(csr.compressed_shape).coords)\n",
    "    assert np.array_equal(csr.data, coo.data)"
   ]
  },
  {
   "cell_type": "code",
   "execution_count": 3,
   "metadata": {},
   "outputs": [],
   "source": [
    "coo = sparse.random((10,10,10),density=.2)\n",
    "csr = CSR(coo)\n",
    "assert_eq(csr,coo)"
   ]
  },
  {
   "cell_type": "markdown",
   "metadata": {},
   "source": [
    "# Indexing\n",
    "I think there are still a few bugs here and there but a fair amount works.\n",
    "\n",
    "- for 2d scipy is still much faster"
   ]
  },
  {
   "cell_type": "code",
   "execution_count": 4,
   "metadata": {},
   "outputs": [],
   "source": [
    "assert_eq(csr[:5,:5,:5],coo[:5,:5,:5])\n",
    "assert_eq(csr[0,:5,:5],coo[0,:5,:5])\n",
    "assert_eq(csr[:5,0,:5],coo[:5,0,:5])\n",
    "assert_eq(csr[:5,:5,0],coo[:5,:5,0])\n",
    "assert_eq(csr[:5,np.arange(5),0],coo[:5,np.arange(5),0])"
   ]
  },
  {
   "cell_type": "code",
   "execution_count": 5,
   "metadata": {},
   "outputs": [],
   "source": [
    "coo = sparse.random((1000,1000),density=.2)\n",
    "csr = CSR(coo)\n",
    "scipy_test = coo.tocsr()"
   ]
  },
  {
   "cell_type": "code",
   "execution_count": 6,
   "metadata": {},
   "outputs": [
    {
     "name": "stdout",
     "output_type": "stream",
     "text": [
      "370 µs ± 8.82 µs per loop (mean ± std. dev. of 7 runs, 1000 loops each)\n"
     ]
    }
   ],
   "source": [
    "%timeit scipy_test[:800,:800]"
   ]
  },
  {
   "cell_type": "code",
   "execution_count": 7,
   "metadata": {},
   "outputs": [
    {
     "name": "stdout",
     "output_type": "stream",
     "text": [
      "1.6 ms ± 125 µs per loop (mean ± std. dev. of 7 runs, 1 loop each)\n"
     ]
    }
   ],
   "source": [
    "%timeit csr[:800,:800]"
   ]
  },
  {
   "cell_type": "code",
   "execution_count": 8,
   "metadata": {},
   "outputs": [
    {
     "name": "stdout",
     "output_type": "stream",
     "text": [
      "6.96 ms ± 169 µs per loop (mean ± std. dev. of 7 runs, 100 loops each)\n"
     ]
    }
   ],
   "source": [
    "%timeit coo[:800,:800]"
   ]
  },
  {
   "cell_type": "markdown",
   "metadata": {},
   "source": [
    "# 3D"
   ]
  },
  {
   "cell_type": "code",
   "execution_count": 9,
   "metadata": {},
   "outputs": [],
   "source": [
    "coo = sparse.random((100,100,100),density=.2)\n",
    "csr = CSR(coo)"
   ]
  },
  {
   "cell_type": "code",
   "execution_count": 10,
   "metadata": {},
   "outputs": [
    {
     "name": "stdout",
     "output_type": "stream",
     "text": [
      "6.09 ms ± 104 µs per loop (mean ± std. dev. of 7 runs, 100 loops each)\n"
     ]
    }
   ],
   "source": [
    "%timeit csr[:80,:50,:90]"
   ]
  },
  {
   "cell_type": "code",
   "execution_count": 11,
   "metadata": {},
   "outputs": [
    {
     "name": "stdout",
     "output_type": "stream",
     "text": [
      "5.06 ms ± 115 µs per loop (mean ± std. dev. of 7 runs, 100 loops each)\n"
     ]
    }
   ],
   "source": [
    "%timeit coo[:80,:50,:90]"
   ]
  },
  {
   "cell_type": "markdown",
   "metadata": {},
   "source": [
    "# 4D"
   ]
  },
  {
   "cell_type": "code",
   "execution_count": 12,
   "metadata": {},
   "outputs": [],
   "source": [
    "coo = sparse.random((100,100,100,100),density=.2)\n",
    "csr = CSR(coo)"
   ]
  },
  {
   "cell_type": "code",
   "execution_count": 13,
   "metadata": {},
   "outputs": [
    {
     "name": "stdout",
     "output_type": "stream",
     "text": [
      "1.14 s ± 3.09 ms per loop (mean ± std. dev. of 7 runs, 1 loop each)\n"
     ]
    }
   ],
   "source": [
    "%timeit csr[:80,:80,:80,:80]"
   ]
  },
  {
   "cell_type": "code",
   "execution_count": 14,
   "metadata": {},
   "outputs": [
    {
     "name": "stdout",
     "output_type": "stream",
     "text": [
      "863 ms ± 2.39 ms per loop (mean ± std. dev. of 7 runs, 1 loop each)\n"
     ]
    }
   ],
   "source": [
    "%timeit coo[:80,:80,:80,:80]"
   ]
  },
  {
   "cell_type": "markdown",
   "metadata": {},
   "source": [
    "# Compression\n",
    "# 2D Density of .2 and .01"
   ]
  },
  {
   "cell_type": "code",
   "execution_count": 15,
   "metadata": {},
   "outputs": [
    {
     "name": "stdout",
     "output_type": "stream",
     "text": [
      "no. bytes dense:  80000  storage ratio:  1.0\n",
      "no. bytes coo:  48000  storage ratio:  0.6\n",
      "no. bytes csr:  32808  storage ratio:  0.4101\n",
      "no. bytes csc:  32808  storage ratio:  0.4101\n"
     ]
    }
   ],
   "source": [
    "#create random sparse array\n",
    "coo = sparse.random((100,100),density=.2)\n",
    "dense = coo.todense()\n",
    "csr = CSR(coo)\n",
    "csc = CSC(coo)\n",
    "print('no. bytes dense: ',dense.nbytes,' storage ratio: ', dense.nbytes/dense.nbytes)\n",
    "print('no. bytes coo: ',coo.nbytes, ' storage ratio: ', coo.nbytes/dense.nbytes)\n",
    "print('no. bytes csr: ',csr.nbytes,' storage ratio: ', csr.nbytes/dense.nbytes)\n",
    "print('no. bytes csc: ',csc.nbytes,' storage ratio: ', csc.nbytes/dense.nbytes)"
   ]
  },
  {
   "cell_type": "code",
   "execution_count": 16,
   "metadata": {},
   "outputs": [
    {
     "name": "stdout",
     "output_type": "stream",
     "text": [
      "no. bytes dense:  80000  storage ratio:  1.0\n",
      "no. bytes coo:  2400  storage ratio:  0.03\n",
      "no. bytes csr:  2408  storage ratio:  0.0301\n",
      "no. bytes csc:  2408  storage ratio:  0.0301\n"
     ]
    }
   ],
   "source": [
    "#create random sparse array\n",
    "coo = sparse.random((100,100),density=.01)\n",
    "dense = coo.todense()\n",
    "csr = CSR(coo)\n",
    "csc = CSC(coo)\n",
    "print('no. bytes dense: ',dense.nbytes,' storage ratio: ', dense.nbytes/dense.nbytes)\n",
    "print('no. bytes coo: ',coo.nbytes, ' storage ratio: ', coo.nbytes/dense.nbytes)\n",
    "print('no. bytes csr: ',csr.nbytes,' storage ratio: ', csr.nbytes/dense.nbytes)\n",
    "print('no. bytes csc: ',csc.nbytes,' storage ratio: ', csc.nbytes/dense.nbytes)"
   ]
  },
  {
   "cell_type": "markdown",
   "metadata": {},
   "source": [
    "# 3D Density of .2 and .01"
   ]
  },
  {
   "cell_type": "code",
   "execution_count": 17,
   "metadata": {},
   "outputs": [
    {
     "name": "stdout",
     "output_type": "stream",
     "text": [
      "no. bytes dense:  8000000  storage ratio:  1.0\n",
      "no. bytes coo:  6400000  storage ratio:  0.8\n",
      "no. bytes csr:  3280008  storage ratio:  0.410001\n",
      "no. bytes csc:  3200808  storage ratio:  0.400101\n"
     ]
    }
   ],
   "source": [
    "#create random sparse array\n",
    "coo = sparse.random((100,100,100),density=.2)\n",
    "dense = coo.todense()\n",
    "csr = CSR(coo)\n",
    "csc = CSC(coo)\n",
    "print('no. bytes dense: ',dense.nbytes,' storage ratio: ', dense.nbytes/dense.nbytes)\n",
    "print('no. bytes coo: ',coo.nbytes, ' storage ratio: ', coo.nbytes/dense.nbytes)\n",
    "print('no. bytes csr: ',csr.nbytes,' storage ratio: ', csr.nbytes/dense.nbytes)\n",
    "print('no. bytes csc: ',csc.nbytes,' storage ratio: ', csc.nbytes/dense.nbytes)"
   ]
  },
  {
   "cell_type": "code",
   "execution_count": 18,
   "metadata": {},
   "outputs": [
    {
     "name": "stdout",
     "output_type": "stream",
     "text": [
      "no. bytes dense:  8000000  storage ratio:  1.0\n",
      "no. bytes coo:  320000  storage ratio:  0.04\n",
      "no. bytes csr:  240008  storage ratio:  0.030001\n",
      "no. bytes csc:  160808  storage ratio:  0.020101\n"
     ]
    }
   ],
   "source": [
    "#create random sparse array\n",
    "coo = sparse.random((100,100,100),density=.01)\n",
    "dense = coo.todense()\n",
    "csr = CSR(coo)\n",
    "csc = CSC(coo)\n",
    "print('no. bytes dense: ',dense.nbytes,' storage ratio: ', dense.nbytes/dense.nbytes)\n",
    "print('no. bytes coo: ',coo.nbytes, ' storage ratio: ', coo.nbytes/dense.nbytes)\n",
    "print('no. bytes csr: ',csr.nbytes,' storage ratio: ', csr.nbytes/dense.nbytes)\n",
    "print('no. bytes csc: ',csc.nbytes,' storage ratio: ', csc.nbytes/dense.nbytes)"
   ]
  },
  {
   "cell_type": "markdown",
   "metadata": {},
   "source": [
    "# 4D Density of .2 and .01"
   ]
  },
  {
   "cell_type": "code",
   "execution_count": 19,
   "metadata": {},
   "outputs": [
    {
     "name": "stdout",
     "output_type": "stream",
     "text": [
      "no. bytes dense:  50000000  storage ratio:  1.0\n",
      "no. bytes coo:  50000000  storage ratio:  1.0\n",
      "no. bytes csr:  20020008  storage ratio:  0.40040016\n",
      "no. bytes csc:  20020008  storage ratio:  0.40040016\n"
     ]
    }
   ],
   "source": [
    "#create random sparse array\n",
    "coo = sparse.random((50,50,50,50),density=.2)\n",
    "dense = coo.todense()\n",
    "csr = CSR(coo)\n",
    "csc = CSC(coo)\n",
    "print('no. bytes dense: ',dense.nbytes,' storage ratio: ', dense.nbytes/dense.nbytes)\n",
    "print('no. bytes coo: ',coo.nbytes, ' storage ratio: ', coo.nbytes/dense.nbytes)\n",
    "print('no. bytes csr: ',csr.nbytes,' storage ratio: ', csr.nbytes/dense.nbytes)\n",
    "print('no. bytes csc: ',csc.nbytes,' storage ratio: ', csc.nbytes/dense.nbytes)"
   ]
  },
  {
   "cell_type": "code",
   "execution_count": 20,
   "metadata": {},
   "outputs": [
    {
     "name": "stdout",
     "output_type": "stream",
     "text": [
      "no. bytes dense:  50000000  storage ratio:  1.0\n",
      "no. bytes coo:  2500000  storage ratio:  0.05\n",
      "no. bytes csr:  1020008  storage ratio:  0.02040016\n",
      "no. bytes csc:  1020008  storage ratio:  0.02040016\n"
     ]
    }
   ],
   "source": [
    "#create random sparse array\n",
    "coo = sparse.random((50,50,50,50),density=.01)\n",
    "dense = coo.todense()\n",
    "csr = CSR(coo)\n",
    "csc = CSC(coo)\n",
    "print('no. bytes dense: ',dense.nbytes,' storage ratio: ', dense.nbytes/dense.nbytes)\n",
    "print('no. bytes coo: ',coo.nbytes, ' storage ratio: ', coo.nbytes/dense.nbytes)\n",
    "print('no. bytes csr: ',csr.nbytes,' storage ratio: ', csr.nbytes/dense.nbytes)\n",
    "print('no. bytes csc: ',csc.nbytes,' storage ratio: ', csc.nbytes/dense.nbytes)"
   ]
  },
  {
   "cell_type": "markdown",
   "metadata": {},
   "source": [
    "# 5D Density of .2 and .01"
   ]
  },
  {
   "cell_type": "code",
   "execution_count": 21,
   "metadata": {},
   "outputs": [
    {
     "name": "stdout",
     "output_type": "stream",
     "text": [
      "no. bytes dense:  6075000  storage ratio:  1.0\n",
      "no. bytes coo:  7290000  storage ratio:  1.2\n",
      "no. bytes csr:  2457008  storage ratio:  0.40444576131687243\n",
      "no. bytes csc:  2431808  storage ratio:  0.40029761316872425\n"
     ]
    }
   ],
   "source": [
    "#create random sparse array\n",
    "coo = sparse.random((15,15,15,15,15),density=.2)\n",
    "dense = coo.todense()\n",
    "csr = CSR(coo)\n",
    "csc = CSC(coo)\n",
    "print('no. bytes dense: ',dense.nbytes,' storage ratio: ', dense.nbytes/dense.nbytes)\n",
    "print('no. bytes coo: ',coo.nbytes, ' storage ratio: ', coo.nbytes/dense.nbytes)\n",
    "print('no. bytes csr: ',csr.nbytes,' storage ratio: ', csr.nbytes/dense.nbytes)\n",
    "print('no. bytes csc: ',csc.nbytes,' storage ratio: ', csc.nbytes/dense.nbytes)"
   ]
  },
  {
   "cell_type": "code",
   "execution_count": 22,
   "metadata": {},
   "outputs": [
    {
     "name": "stdout",
     "output_type": "stream",
     "text": [
      "no. bytes dense:  6075000  storage ratio:  1.0\n",
      "no. bytes coo:  364464  storage ratio:  0.059994074074074075\n",
      "no. bytes csr:  148496  storage ratio:  0.024443786008230453\n",
      "no. bytes csc:  123296  storage ratio:  0.020295637860082306\n"
     ]
    }
   ],
   "source": [
    "#create random sparse array\n",
    "coo = sparse.random((15,15,15,15,15),density=.01)\n",
    "dense = coo.todense()\n",
    "csr = CSR(coo)\n",
    "csc = CSC(coo)\n",
    "print('no. bytes dense: ',dense.nbytes,' storage ratio: ', dense.nbytes/dense.nbytes)\n",
    "print('no. bytes coo: ',coo.nbytes, ' storage ratio: ', coo.nbytes/dense.nbytes)\n",
    "print('no. bytes csr: ',csr.nbytes,' storage ratio: ', csr.nbytes/dense.nbytes)\n",
    "print('no. bytes csc: ',csc.nbytes,' storage ratio: ', csc.nbytes/dense.nbytes)"
   ]
  },
  {
   "cell_type": "code",
   "execution_count": null,
   "metadata": {},
   "outputs": [],
   "source": []
  }
 ],
 "metadata": {
  "kernelspec": {
   "display_name": "Python 3",
   "language": "python",
   "name": "python3"
  },
  "language_info": {
   "codemirror_mode": {
    "name": "ipython",
    "version": 3
   },
   "file_extension": ".py",
   "mimetype": "text/x-python",
   "name": "python",
   "nbconvert_exporter": "python",
   "pygments_lexer": "ipython3",
   "version": "3.6.5"
  }
 },
 "nbformat": 4,
 "nbformat_minor": 2
}
